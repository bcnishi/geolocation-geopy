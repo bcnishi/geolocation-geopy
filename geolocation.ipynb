{
 "cells": [
  {
   "cell_type": "code",
   "execution_count": 1,
   "metadata": {},
   "outputs": [],
   "source": [
    "from geopy.geocoders import Nominatim\n",
    "from geopy.extra.rate_limiter import RateLimiter\n",
    "import pandas as pd\n",
    "import numpy as np\n",
    "import folium as f\n",
    "import folium.plugins as plugins\n",
    "from folium.features import CustomIcon\n",
    "from folium.plugins import MarkerCluster\n",
    "from folium.plugins import MousePosition\n",
    "import os"
   ]
  },
  {
   "cell_type": "code",
   "execution_count": 2,
   "metadata": {},
   "outputs": [
    {
     "name": "stdout",
     "output_type": "stream",
     "text": [
      "Digite o endeço da sua localização atual. Não use abreviações! Ex: em vez de usar \"Av. Sgt Hermínio Sampaio - Fortaleza\", use \"Avenida Sargento Hermínio Sampaio - Fortaleza\". \n",
      "Rua Bartolomeu Dias, 465, Messejana\n"
     ]
    }
   ],
   "source": [
    "locator = Nominatim(user_agent='myGeocoder')\n",
    "user_location = locator.geocode(input('Digite o endeço da sua localização atual. Não use abreviações! Ex: em vez de usar \"Av. Sgt Hermínio Sampaio - Fortaleza\", use \"Avenida Sargento Hermínio Sampaio - Fortaleza\". \\n'))"
   ]
  },
  {
   "cell_type": "code",
   "execution_count": 3,
   "metadata": {},
   "outputs": [
    {
     "data": {
      "text/plain": [
       "Location(Rua Bartolomeu Dias, Messejana, Fortaleza, Microrregião de Fortaleza, Região Geográfica Intermediária de Fortaleza, Ceará, Região Nordeste, 60841240, Brasil, (-3.8257491, -38.4904167, 0.0))"
      ]
     },
     "execution_count": 3,
     "metadata": {},
     "output_type": "execute_result"
    }
   ],
   "source": [
    "user_location"
   ]
  },
  {
   "cell_type": "code",
   "execution_count": 4,
   "metadata": {},
   "outputs": [
    {
     "name": "stdout",
     "output_type": "stream",
     "text": [
      "Latitude = -3.8257491, Longitude = -38.4904167\n"
     ]
    }
   ],
   "source": [
    "print(\"Latitude = {}, Longitude = {}\".format(user_location.latitude, user_location.longitude))"
   ]
  },
  {
   "cell_type": "code",
   "execution_count": 5,
   "metadata": {},
   "outputs": [],
   "source": [
    "df = pd.DataFrame({'Place':\n",
    "                      ['Oficina da Bike',\n",
    "                       'Ciclo Peças O Irmão',\n",
    "                       'Casa do Ciclista',\n",
    "                       'Ciclopeças O Amigão',\n",
    "                       'NT Bike'],\n",
    "                    'Address':\n",
    "                     ['Rua Guilherme Pessoa 577, Messejana, Fortaleza',\n",
    "                      'Rua Doutor Joaquim Bento 345, Messejana, Fortaleza',\n",
    "                      'Rua Doutor Pergentino Maia 552, Messejana, Fortaleza',\n",
    "                      'Rua Coronel Francisco Pereira 300, Messejana, Fortaleza',\n",
    "                      'Avenida Odilon Guimarães 3708, Lagoa Redonda, Fortaleza']\n",
    "})"
   ]
  },
  {
   "cell_type": "code",
   "execution_count": 6,
   "metadata": {},
   "outputs": [
    {
     "data": {
      "text/html": [
       "<div>\n",
       "<style scoped>\n",
       "    .dataframe tbody tr th:only-of-type {\n",
       "        vertical-align: middle;\n",
       "    }\n",
       "\n",
       "    .dataframe tbody tr th {\n",
       "        vertical-align: top;\n",
       "    }\n",
       "\n",
       "    .dataframe thead th {\n",
       "        text-align: right;\n",
       "    }\n",
       "</style>\n",
       "<table border=\"1\" class=\"dataframe\">\n",
       "  <thead>\n",
       "    <tr style=\"text-align: right;\">\n",
       "      <th></th>\n",
       "      <th>Place</th>\n",
       "      <th>Address</th>\n",
       "    </tr>\n",
       "  </thead>\n",
       "  <tbody>\n",
       "    <tr>\n",
       "      <th>0</th>\n",
       "      <td>Oficina da Bike</td>\n",
       "      <td>Rua Guilherme Pessoa 577, Messejana, Fortaleza</td>\n",
       "    </tr>\n",
       "    <tr>\n",
       "      <th>1</th>\n",
       "      <td>Ciclo Peças O Irmão</td>\n",
       "      <td>Rua Doutor Joaquim Bento 345, Messejana, Forta...</td>\n",
       "    </tr>\n",
       "    <tr>\n",
       "      <th>2</th>\n",
       "      <td>Casa do Ciclista</td>\n",
       "      <td>Rua Doutor Pergentino Maia 552, Messejana, For...</td>\n",
       "    </tr>\n",
       "    <tr>\n",
       "      <th>3</th>\n",
       "      <td>Ciclopeças O Amigão</td>\n",
       "      <td>Rua Coronel Francisco Pereira 300, Messejana, ...</td>\n",
       "    </tr>\n",
       "    <tr>\n",
       "      <th>4</th>\n",
       "      <td>NT Bike</td>\n",
       "      <td>Avenida Odilon Guimarães 3708, Lagoa Redonda, ...</td>\n",
       "    </tr>\n",
       "  </tbody>\n",
       "</table>\n",
       "</div>"
      ],
      "text/plain": [
       "                 Place                                            Address\n",
       "0      Oficina da Bike     Rua Guilherme Pessoa 577, Messejana, Fortaleza\n",
       "1  Ciclo Peças O Irmão  Rua Doutor Joaquim Bento 345, Messejana, Forta...\n",
       "2     Casa do Ciclista  Rua Doutor Pergentino Maia 552, Messejana, For...\n",
       "3  Ciclopeças O Amigão  Rua Coronel Francisco Pereira 300, Messejana, ...\n",
       "4              NT Bike  Avenida Odilon Guimarães 3708, Lagoa Redonda, ..."
      ]
     },
     "execution_count": 6,
     "metadata": {},
     "output_type": "execute_result"
    }
   ],
   "source": [
    "df.head()"
   ]
  },
  {
   "cell_type": "code",
   "execution_count": 7,
   "metadata": {},
   "outputs": [],
   "source": [
    "# convenient function to delay between geocoding calls\n",
    "geocode = RateLimiter(locator.geocode, min_delay_seconds=1)\n",
    "# create location column\n",
    "df['location'] = df['Address'].apply(geocode)\n",
    "# create Longitude, Latitude and altitude from location column (returns list)\n",
    "df['point'] = df['location'].apply(lambda loc: list(loc.point) if loc else None)\n",
    "# split point column into Latitude, Longitude and altitude columns\n",
    "df[['Latitude', 'Longitude', 'altitude']] = pd.DataFrame(df['point'].tolist(), index=df.index)\n",
    "# remove location, point and altitude columns\n",
    "df = df.drop(['location','point','altitude'], axis=1)"
   ]
  },
  {
   "cell_type": "code",
   "execution_count": 9,
   "metadata": {},
   "outputs": [
    {
     "data": {
      "text/html": [
       "<div>\n",
       "<style scoped>\n",
       "    .dataframe tbody tr th:only-of-type {\n",
       "        vertical-align: middle;\n",
       "    }\n",
       "\n",
       "    .dataframe tbody tr th {\n",
       "        vertical-align: top;\n",
       "    }\n",
       "\n",
       "    .dataframe thead th {\n",
       "        text-align: right;\n",
       "    }\n",
       "</style>\n",
       "<table border=\"1\" class=\"dataframe\">\n",
       "  <thead>\n",
       "    <tr style=\"text-align: right;\">\n",
       "      <th></th>\n",
       "      <th>Place</th>\n",
       "      <th>Address</th>\n",
       "      <th>Latitude</th>\n",
       "      <th>Longitude</th>\n",
       "    </tr>\n",
       "  </thead>\n",
       "  <tbody>\n",
       "    <tr>\n",
       "      <th>0</th>\n",
       "      <td>Oficina da Bike</td>\n",
       "      <td>Rua Guilherme Pessoa 577, Messejana, Fortaleza</td>\n",
       "      <td>-3.827106</td>\n",
       "      <td>-38.487960</td>\n",
       "    </tr>\n",
       "    <tr>\n",
       "      <th>1</th>\n",
       "      <td>Ciclo Peças O Irmão</td>\n",
       "      <td>Rua Doutor Joaquim Bento 345, Messejana, Forta...</td>\n",
       "      <td>-3.828313</td>\n",
       "      <td>-38.483291</td>\n",
       "    </tr>\n",
       "    <tr>\n",
       "      <th>2</th>\n",
       "      <td>Casa do Ciclista</td>\n",
       "      <td>Rua Doutor Pergentino Maia 552, Messejana, For...</td>\n",
       "      <td>-3.830711</td>\n",
       "      <td>-38.493905</td>\n",
       "    </tr>\n",
       "    <tr>\n",
       "      <th>3</th>\n",
       "      <td>Ciclopeças O Amigão</td>\n",
       "      <td>Rua Coronel Francisco Pereira 300, Messejana, ...</td>\n",
       "      <td>-3.830873</td>\n",
       "      <td>-38.492815</td>\n",
       "    </tr>\n",
       "    <tr>\n",
       "      <th>4</th>\n",
       "      <td>NT Bike</td>\n",
       "      <td>Avenida Odilon Guimarães 3708, Lagoa Redonda, ...</td>\n",
       "      <td>-3.820065</td>\n",
       "      <td>-38.475501</td>\n",
       "    </tr>\n",
       "  </tbody>\n",
       "</table>\n",
       "</div>"
      ],
      "text/plain": [
       "                 Place                                            Address  \\\n",
       "0      Oficina da Bike     Rua Guilherme Pessoa 577, Messejana, Fortaleza   \n",
       "1  Ciclo Peças O Irmão  Rua Doutor Joaquim Bento 345, Messejana, Forta...   \n",
       "2     Casa do Ciclista  Rua Doutor Pergentino Maia 552, Messejana, For...   \n",
       "3  Ciclopeças O Amigão  Rua Coronel Francisco Pereira 300, Messejana, ...   \n",
       "4              NT Bike  Avenida Odilon Guimarães 3708, Lagoa Redonda, ...   \n",
       "\n",
       "   Latitude  Longitude  \n",
       "0 -3.827106 -38.487960  \n",
       "1 -3.828313 -38.483291  \n",
       "2 -3.830711 -38.493905  \n",
       "3 -3.830873 -38.492815  \n",
       "4 -3.820065 -38.475501  "
      ]
     },
     "execution_count": 9,
     "metadata": {},
     "output_type": "execute_result"
    }
   ],
   "source": [
    "df.head()"
   ]
  },
  {
   "cell_type": "code",
   "execution_count": 10,
   "metadata": {},
   "outputs": [],
   "source": [
    "def euclidean_dist(data, p):\n",
    "    \"\"\"Function to calculate the Euclidean Distance\"\"\"\n",
    "    x = (data - p)**2\n",
    "    return np.sqrt(np.sum(x, axis=1))"
   ]
  },
  {
   "cell_type": "code",
   "execution_count": 11,
   "metadata": {},
   "outputs": [],
   "source": [
    "array = np.array(list(zip(df['Latitude'].values, df['Longitude'].values)))"
   ]
  },
  {
   "cell_type": "code",
   "execution_count": 12,
   "metadata": {},
   "outputs": [],
   "source": [
    "my_location = np.array([[user_location.latitude, user_location.longitude]])"
   ]
  },
  {
   "cell_type": "code",
   "execution_count": 13,
   "metadata": {},
   "outputs": [
    {
     "data": {
      "text/html": [
       "<div>\n",
       "<style scoped>\n",
       "    .dataframe tbody tr th:only-of-type {\n",
       "        vertical-align: middle;\n",
       "    }\n",
       "\n",
       "    .dataframe tbody tr th {\n",
       "        vertical-align: top;\n",
       "    }\n",
       "\n",
       "    .dataframe thead th {\n",
       "        text-align: right;\n",
       "    }\n",
       "</style>\n",
       "<table border=\"1\" class=\"dataframe\">\n",
       "  <thead>\n",
       "    <tr style=\"text-align: right;\">\n",
       "      <th></th>\n",
       "      <th>Place</th>\n",
       "      <th>Address</th>\n",
       "      <th>Latitude</th>\n",
       "      <th>Longitude</th>\n",
       "      <th>Euc_Dist</th>\n",
       "    </tr>\n",
       "  </thead>\n",
       "  <tbody>\n",
       "    <tr>\n",
       "      <th>0</th>\n",
       "      <td>Oficina da Bike</td>\n",
       "      <td>Rua Guilherme Pessoa 577, Messejana, Fortaleza</td>\n",
       "      <td>-3.827106</td>\n",
       "      <td>-38.487960</td>\n",
       "      <td>0.002807</td>\n",
       "    </tr>\n",
       "    <tr>\n",
       "      <th>1</th>\n",
       "      <td>Ciclopeças O Amigão</td>\n",
       "      <td>Rua Coronel Francisco Pereira 300, Messejana, ...</td>\n",
       "      <td>-3.830873</td>\n",
       "      <td>-38.492815</td>\n",
       "      <td>0.005658</td>\n",
       "    </tr>\n",
       "    <tr>\n",
       "      <th>2</th>\n",
       "      <td>Casa do Ciclista</td>\n",
       "      <td>Rua Doutor Pergentino Maia 552, Messejana, For...</td>\n",
       "      <td>-3.830711</td>\n",
       "      <td>-38.493905</td>\n",
       "      <td>0.006065</td>\n",
       "    </tr>\n",
       "    <tr>\n",
       "      <th>3</th>\n",
       "      <td>Ciclo Peças O Irmão</td>\n",
       "      <td>Rua Doutor Joaquim Bento 345, Messejana, Forta...</td>\n",
       "      <td>-3.828313</td>\n",
       "      <td>-38.483291</td>\n",
       "      <td>0.007573</td>\n",
       "    </tr>\n",
       "    <tr>\n",
       "      <th>4</th>\n",
       "      <td>NT Bike</td>\n",
       "      <td>Avenida Odilon Guimarães 3708, Lagoa Redonda, ...</td>\n",
       "      <td>-3.820065</td>\n",
       "      <td>-38.475501</td>\n",
       "      <td>0.015962</td>\n",
       "    </tr>\n",
       "  </tbody>\n",
       "</table>\n",
       "</div>"
      ],
      "text/plain": [
       "                 Place                                            Address  \\\n",
       "0      Oficina da Bike     Rua Guilherme Pessoa 577, Messejana, Fortaleza   \n",
       "1  Ciclopeças O Amigão  Rua Coronel Francisco Pereira 300, Messejana, ...   \n",
       "2     Casa do Ciclista  Rua Doutor Pergentino Maia 552, Messejana, For...   \n",
       "3  Ciclo Peças O Irmão  Rua Doutor Joaquim Bento 345, Messejana, Forta...   \n",
       "4              NT Bike  Avenida Odilon Guimarães 3708, Lagoa Redonda, ...   \n",
       "\n",
       "   Latitude  Longitude  Euc_Dist  \n",
       "0 -3.827106 -38.487960  0.002807  \n",
       "1 -3.830873 -38.492815  0.005658  \n",
       "2 -3.830711 -38.493905  0.006065  \n",
       "3 -3.828313 -38.483291  0.007573  \n",
       "4 -3.820065 -38.475501  0.015962  "
      ]
     },
     "execution_count": 13,
     "metadata": {},
     "output_type": "execute_result"
    }
   ],
   "source": [
    "df['Euc_Dist'] = euclidean_dist(array, my_location)\n",
    "df = df.sort_values(by='Euc_Dist')\n",
    "df = df.reset_index(drop=True)\n",
    "df"
   ]
  },
  {
   "cell_type": "code",
   "execution_count": 14,
   "metadata": {},
   "outputs": [
    {
     "name": "stdout",
     "output_type": "stream",
     "text": [
      "Rua Guilherme Pessoa 577, Messejana, Fortaleza\n"
     ]
    }
   ],
   "source": [
    "closer_idx = df['Euc_Dist'].idxmin()\n",
    "closer = df.loc[closer_idx,'Address']\n",
    "print(closer)"
   ]
  },
  {
   "cell_type": "code",
   "execution_count": 15,
   "metadata": {},
   "outputs": [
    {
     "data": {
      "text/html": [
       "<div style=\"width:100%;\"><div style=\"position:relative;width:100%;height:0;padding-bottom:60%;\"><iframe src=\"data:text/html;charset=utf-8;base64,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\" style=\"position:absolute;width:100%;height:100%;left:0;top:0;border:none !important;\" allowfullscreen webkitallowfullscreen mozallowfullscreen></iframe></div></div>"
      ],
      "text/plain": [
       "<folium.folium.Map at 0x309d0c400>"
      ]
     },
     "execution_count": 15,
     "metadata": {},
     "output_type": "execute_result"
    }
   ],
   "source": [
    "#display the place names when the user click on the icons\n",
    "popups = ['{}'.format(place) for place in df['Place']]\n",
    "\n",
    "#set theme, zoom e initial map location\n",
    "f_map = f.Map(location=[user_location.latitude, user_location.longitude],\n",
    "                        zoom_start=12,\n",
    "                        tiles='cartodbpositron') #'CartoDB dark_matter' (dark theme)\n",
    "#mark the user location\n",
    "f.Marker(\n",
    "    [user_location.latitude, user_location.longitude],\n",
    "    popup='You are here',\n",
    "    icon=f.Icon(color='blue', icon='street-view', prefix='fa')\n",
    ").add_to(f_map)\n",
    "\n",
    "#groups nearby points (bike shops) into a cluster\n",
    "marker_cluster = MarkerCluster().add_to(f_map)\n",
    "for point in range(len(array)):\n",
    "    f.Marker(array[point], icon=f.Icon(color='red', icon='bicycle', prefix='fa'), \n",
    "                  popup=popups[point]).add_to(marker_cluster)\n",
    "    \n",
    "#make a line between user location and the nearest bike shop\n",
    "line = [[user_location.latitude, user_location.longitude],[df.loc[closer_idx,'Latitude'],df.loc[closer_idx,'Longitude']]]\n",
    "\n",
    "line_mark =  f.PolyLine(line, color=\"red\", weight=2, opacity=1).add_to(f_map)\n",
    "\n",
    "attr = {'fill': 'black', 'font-size': '20'}\n",
    "\n",
    "plugins.PolyLineTextPath(\n",
    "    line_mark,\n",
    "    '\\u27A1\\uFE0F', #\\U0001f6b4 (bike) #\\u25BA #\\U0001f463 #\\u27A1\\uFE0F (arrow)\n",
    "    repeat = True,\n",
    "    offset = 7,\n",
    "    attributes = attr\n",
    ").add_to(f_map)\n",
    "\n",
    "formatter = \"function(num) {return L.Util.formatNum(num, 3) + ' º ';};\"\n",
    "\n",
    "MousePosition(\n",
    "    position='topright',\n",
    "    separator=' | ',\n",
    "    empty_string='NaN',\n",
    "    lng_first=True,\n",
    "    num_digits=20,\n",
    "    prefix='Coordinates:',\n",
    "    lat_formatter=formatter,\n",
    "    lng_formatter=formatter,\n",
    ").add_to(f_map)\n",
    "\n",
    "marker_cluster.add_to(f_map)\n",
    "\n",
    "f.LayerControl().add_to(f_map)\n",
    "f_map"
   ]
  },
  {
   "cell_type": "code",
   "execution_count": null,
   "metadata": {},
   "outputs": [],
   "source": []
  }
 ],
 "metadata": {
  "kernelspec": {
   "display_name": "Python 3",
   "language": "python",
   "name": "python3"
  },
  "language_info": {
   "codemirror_mode": {
    "name": "ipython",
    "version": 3
   },
   "file_extension": ".py",
   "mimetype": "text/x-python",
   "name": "python",
   "nbconvert_exporter": "python",
   "pygments_lexer": "ipython3",
   "version": "3.6.5"
  }
 },
 "nbformat": 4,
 "nbformat_minor": 4
}
